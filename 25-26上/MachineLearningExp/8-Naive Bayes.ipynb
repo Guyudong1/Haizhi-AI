{
 "cells": [
  {
   "cell_type": "markdown",
   "metadata": {},
   "source": [
    "# 实验八：三种朴素贝叶斯模型分类对比（Iris 数据集）\n",
    "- GaussianNB（高斯）\n",
    "- MultinomialNB（多项式）\n",
    "- BernoulliNB（伯努利）\n",
    "- 特征选择：Petal length 和 Sepal width\n",
    "- 输出预测结果、评价指标和可视化决策边界"
   ]
  },
  {
   "cell_type": "code",
   "execution_count": null,
   "metadata": {},
   "outputs": [],
   "source": [
    "from sklearn.datasets import load_iris\n",
    "from sklearn.model_selection import train_test_split\n",
    "from sklearn.naive_bayes import GaussianNB, BernoulliNB, MultinomialNB\n",
    "from sklearn import metrics\n",
    "import numpy as np\n",
    "import matplotlib.pyplot as plt\n",
    "\n",
    "# 设置中文字体\n",
    "plt.rcParams['font.sans-serif'] = ['SimHei']\n",
    "plt.rcParams['axes.unicode_minus'] = False"
   ]
  },
  {
   "cell_type": "markdown",
   "metadata": {},
   "source": [
    "## 加载数据与训练模型"
   ]
  },
  {
   "cell_type": "code",
   "execution_count": null,
   "metadata": {},
   "outputs": [],
   "source": [
    "iris = load_iris()\n",
    "X = iris.data[:, [2, 1]]\n",
    "y = iris.target\n",
    "X_train, X_test, y_train, y_test = train_test_split(X, y, test_size=0.3, random_state=42)\n",
    "\n",
    "clf1 = GaussianNB()\n",
    "clf1.fit(X_train, y_train)\n",
    "y_pred1 = clf1.predict(X_test)\n",
    "print(\"用高斯朴素贝叶斯分类模型：\", y_pred1)\n",
    "\n",
    "clf2 = MultinomialNB()\n",
    "clf2.fit(X_train, y_train)\n",
    "y_pred2 = clf2.predict(X_test)\n",
    "print(\"用多项式朴素贝叶斯分类模型：\", y_pred2)\n",
    "\n",
    "clf3 = BernoulliNB()\n",
    "clf3.fit(X_train, y_train)\n",
    "y_pred3 = clf3.predict(X_test)\n",
    "print(\"用伯努利朴素贝叶斯分类模型：\", y_pred3)"
   ]
  },
  {
   "cell_type": "markdown",
   "metadata": {},
   "source": [
    "## 输出评价指标"
   ]
  },
  {
   "cell_type": "code",
   "execution_count": null,
   "metadata": {},
   "outputs": [],
   "source": [
    "def print_metrics(name, y_true, y_pred):\n",
    "    m = metrics.confusion_matrix(y_true, y_pred)\n",
    "    a = metrics.accuracy_score(y_true, y_pred)\n",
    "    p = metrics.precision_score(y_true, y_pred, average='macro')\n",
    "    r = metrics.recall_score(y_true, y_pred, average='macro')\n",
    "    f1 = metrics.f1_score(y_true, y_pred, average='macro')\n",
    "    print(f\"{name}：\\n混淆矩阵: {m}\\n精度: {a}\\n查准率: {p}\\n查全率: {r}\\nF1: {f1}\\n\")\n",
    "\n",
    "print_metrics(\"高斯朴素贝叶斯\", y_test, y_pred1)\n",
    "print_metrics(\"多项式朴素贝叶斯\", y_test, y_pred2)\n",
    "print_metrics(\"伯努利朴素贝叶斯\", y_test, y_pred3)"
   ]
  },
  {
   "cell_type": "markdown",
   "metadata": {},
   "source": [
    "## 可视化分类边界"
   ]
  },
  {
   "cell_type": "code",
   "execution_count": null,
   "metadata": {},
   "outputs": [],
   "source": [
    "def plot_nb_boundary(clf, title):\n",
    "    h = 0.02\n",
    "    x_min, x_max = X[:, 0].min() - 1, X[:, 0].max() + 1\n",
    "    y_min, y_max = X[:, 1].min() - 1, X[:, 1].max() + 1\n",
    "    xx, yy = np.meshgrid(np.arange(x_min, x_max, h), np.arange(y_min, y_max, h))\n",
    "    Z = clf.predict(np.c_[xx.ravel(), yy.ravel()])\n",
    "    Z = Z.reshape(xx.shape)\n",
    "    plt.figure(figsize=(8, 6))\n",
    "    plt.contourf(xx, yy, Z, cmap=plt.cm.coolwarm, alpha=0.8)\n",
    "    plt.scatter(X_test[:, 0], X_test[:, 1], c=y_test, cmap=plt.cm.coolwarm, edgecolors='k')\n",
    "    plt.title(title)\n",
    "    plt.xlabel(\"Petal length\")\n",
    "    plt.ylabel(\"Sepal width\")\n",
    "    plt.xlim(xx.min(), xx.max())\n",
    "    plt.ylim(yy.min(), yy.max())\n",
    "    plt.show()\n",
    "\n",
    "plot_nb_boundary(clf1, \"高斯朴素贝叶斯分类模型\")\n",
    "plot_nb_boundary(clf2, \"多项式朴素贝叶斯分类模型\")\n",
    "plot_nb_boundary(clf3, \"伯努利朴素贝叶斯分类模型\")"
   ]
  }
 ],
 "metadata": {
  "kernelspec": {
   "display_name": "Python 3",
   "language": "python",
   "name": "python3"
  },
  "language_info": {
   "name": "python",
   "version": "3.9"
  }
 },
 "nbformat": 4,
 "nbformat_minor": 5
}
