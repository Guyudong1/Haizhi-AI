import pandas as pd
import numpy as np
import matplotlib.pyplot as plt
from sklearn import metrics

wb = pd.read_csv("D:/cxdownload/PredictionResultv2.csv")
dataMat = np.array(wb)
print(dataMat)

# 实验一
y_true = dataMat[:, 1:2]
y_pred = dataMat[:, 2:3]
M1 = metrics.confusion_matrix(y_true, y_pred)
print("混淆矩阵：\n", M1)

# 实验二
print(f"准确率为：{metrics.accuracy_score(y_true, y_pred)}")
print("错误率为:", 1-metrics.accuracy_score(y_true, y_pred))

# 实验三
print("查准率为:", metrics.precision_score(y_true, y_pred, average=None))
print("查全率为：", metrics.recall_score(y_true, y_pred, average=None))
print("F1:", metrics.f1_score(y_true, y_pred, average=None))

# 附加
y_score = dataMat[:, 3:4]
fpr, tpr, thresholds = metrics.roc_curve(y_true, y_score, pos_label='A')
plt.figure()
plt.title(f"ROC Curve,AUC={metrics.auc(fpr, tpr)} ")
plt.xlabel("False Positive Rate")
plt.ylabel("True Positive Rate")
plt.plot(fpr, tpr)
plt.show()
