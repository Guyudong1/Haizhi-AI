{
 "cells": [
  {
   "cell_type": "markdown",
   "metadata": {},
   "source": [
    "# 实验三：多元线性回归 + 三维可视化"
   ]
  },
  {
   "cell_type": "code",
   "execution_count": null,
   "metadata": {},
   "outputs": [],
   "source": [
    "import numpy as np\n",
    "from sklearn.linear_model import LinearRegression\n",
    "from mpl_toolkits.mplot3d import Axes3D\n",
    "import matplotlib.pyplot as plt"
   ]
  },
  {
   "cell_type": "markdown",
   "metadata": {},
   "source": [
    "## 输入数据"
   ]
  },
  {
   "cell_type": "code",
   "execution_count": null,
   "metadata": {},
   "outputs": [],
   "source": [
    "x_data = np.array(\n",
    "    [[100, 4],\n",
    "     [ 50, 1],\n",
    "     [100, 4],\n",
    "     [100, 3],\n",
    "     [ 50, 2],\n",
    "     [ 75, 3],\n",
    "     [ 80, 2],\n",
    "     [ 65, 4],\n",
    "     [ 90, 3],\n",
    "     [ 90, 2]])\n",
    "\n",
    "y_data = np.array([9.3, 4.8, 8.9, 6.5, 4.2, 6.2, 7.4, 6.0, 7.6, 6.1])"
   ]
  },
  {
   "cell_type": "markdown",
   "metadata": {},
   "source": [
    "## 训练多元线性回归模型"
   ]
  },
  {
   "cell_type": "code",
   "execution_count": null,
   "metadata": {},
   "outputs": [],
   "source": [
    "model = LinearRegression()\n",
    "model.fit(x_data, y_data)\n",
    "\n",
    "print(\"截距 b:\", model.intercept_)\n",
    "print(\"权重系数 w1, w2:\", model.coef_)"
   ]
  },
  {
   "cell_type": "markdown",
   "metadata": {},
   "source": [
    "## 三维可视化"
   ]
  },
  {
   "cell_type": "code",
   "execution_count": null,
   "metadata": {},
   "outputs": [],
   "source": [
    "w1 = model.coef_[0]\n",
    "w2 = model.coef_[1]\n",
    "b = model.intercept_\n",
    "\n",
    "ax = plt.figure().add_subplot(111, projection='3d')\n",
    "ax.scatter(x_data[:, 0], x_data[:, 1], y_data, c='b', marker='o', s=50)\n",
    "\n",
    "# 构造网格面用于绘图\n",
    "x0 = np.linspace(min(x_data[:, 0]), max(x_data[:, 0]), 10)\n",
    "x1 = np.linspace(min(x_data[:, 1]), max(x_data[:, 1]), 10)\n",
    "x0, x1 = np.meshgrid(x0, x1)\n",
    "Z = b + w1 * x0 + w2 * x1\n",
    "\n",
    "ax.plot_surface(x0, x1, Z, color='r', alpha=0.5)\n",
    "ax.set_xlabel('area')\n",
    "ax.set_ylabel('num_rooms')\n",
    "ax.set_zlabel('price')\n",
    "plt.title(\"多元线性回归平面拟合\")\n",
    "plt.show()"
   ]
  }
 ],
 "metadata": {
  "kernelspec": {
   "display_name": "Python 3",
   "language": "python",
   "name": "python3"
  },
  "language_info": {
   "name": "python",
   "version": ""
  }
 },
 "nbformat": 4,
 "nbformat_minor": 5
}
