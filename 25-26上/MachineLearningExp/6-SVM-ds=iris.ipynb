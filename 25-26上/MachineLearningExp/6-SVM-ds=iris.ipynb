{
 "cells": [
  {
   "cell_type": "markdown",
   "metadata": {},
   "source": [
    "# 实验六：SVM四种核函数对比+可视化（iris数据集）\n",
    "- 使用 Iris 数据集的 Petal length 和 Sepal width\n",
    "- 对比 Linear、RBF、Polynomial、Sigmoid 四种核函数\n",
    "- 可视化决策边界与测试数据分布"
   ]
  },
  {
   "cell_type": "code",
   "execution_count": null,
   "metadata": {},
   "outputs": [],
   "source": [
    "import numpy as np\n",
    "import matplotlib.pyplot as plt\n",
    "from sklearn import svm, datasets\n",
    "from sklearn.model_selection import train_test_split"
   ]
  },
  {
   "cell_type": "markdown",
   "metadata": {},
   "source": [
    "## 加载 Iris 数据并划分训练集与测试集"
   ]
  },
  {
   "cell_type": "code",
   "execution_count": null,
   "metadata": {},
   "outputs": [],
   "source": [
    "# 加载数据\n",
    "iris = datasets.load_iris()\n",
    "X = iris.data[:, [2, 1]]  # petal length 和 sepal width\n",
    "y = iris.target\n",
    "\n",
    "# 划分训练集和测试集\n",
    "X_train, X_test, y_train, y_test = train_test_split(X, y, test_size=0.3, random_state=42)\n",
    "\n",
    "kernels = ['linear', 'rbf', 'poly', 'sigmoid']"
   ]
  },
  {
   "cell_type": "markdown",
   "metadata": {},
   "source": [
    "## 定义四种核函数的绘图函数"
   ]
  },
  {
   "cell_type": "code",
   "execution_count": null,
   "metadata": {},
   "outputs": [],
   "source": [
    "def plot_decision_boundary(clf, kernel_name):\n",
    "    h = 0.02\n",
    "    x_min, x_max = X[:, 0].min() - 1, X[:, 0].max() + 1\n",
    "    y_min, y_max = X[:, 1].min() - 1, X[:, 1].max() + 1\n",
    "    xx, yy = np.meshgrid(np.arange(x_min, x_max, h),\n",
    "                         np.arange(y_min, y_max, h))\n",
    "\n",
    "    Z = clf.predict(np.c_[xx.ravel(), yy.ravel()])\n",
    "    Z = Z.reshape(xx.shape)\n",
    "\n",
    "    plt.figure(figsize=(8, 6))\n",
    "    plt.contourf(xx, yy, Z, cmap=plt.cm.coolwarm, alpha=0.8)\n",
    "    plt.scatter(X_test[:, 0], X_test[:, 1], c=y_test, cmap=plt.cm.coolwarm, edgecolors='k')\n",
    "    plt.title(f\"SVM with {kernel_name.capitalize()} Kernel\")\n",
    "    plt.xlabel(\"Petal length\")\n",
    "    plt.ylabel(\"Sepal width\")\n",
    "    plt.xlim(xx.min(), xx.max())\n",
    "    plt.ylim(yy.min(), yy.max())\n",
    "    plt.show()"
   ]
  },
  {
   "cell_type": "markdown",
   "metadata": {},
   "source": [
    "## Linear 核函数"
   ]
  },
  {
   "cell_type": "code",
   "execution_count": null,
   "metadata": {},
   "outputs": [],
   "source": [
    "clf_linear = svm.SVC(C=1, kernel='linear', gamma='auto')\n",
    "clf_linear.fit(X_train, y_train)\n",
    "print(f\"Linear Kernel Score: {clf_linear.score(X_test, y_test):.4f}\")\n",
    "plot_decision_boundary(clf_linear, 'linear')"
   ]
  },
  {
   "cell_type": "markdown",
   "metadata": {},
   "source": [
    "## RBF 核函数"
   ]
  },
  {
   "cell_type": "code",
   "execution_count": null,
   "metadata": {},
   "outputs": [],
   "source": [
    "clf_rbf = svm.SVC(C=10, kernel='rbf', gamma=0.1)\n",
    "clf_rbf.fit(X_train, y_train)\n",
    "print(f\"RBF Kernel Score: {clf_rbf.score(X_test, y_test):.4f}\")\n",
    "plot_decision_boundary(clf_rbf, 'rbf')"
   ]
  },
  {
   "cell_type": "markdown",
   "metadata": {},
   "source": [
    "## Polynomial 核函数"
   ]
  },
  {
   "cell_type": "code",
   "execution_count": null,
   "metadata": {},
   "outputs": [],
   "source": [
    "clf_poly = svm.SVC(C=10, kernel='poly', degree=3, gamma='scale', coef0=0.5)\n",
    "clf_poly.fit(X_train, y_train)\n",
    "print(f\"Polynomial Kernel Score: {clf_poly.score(X_test, y_test):.4f}\")\n",
    "plot_decision_boundary(clf_poly, 'poly')"
   ]
  },
  {
   "cell_type": "markdown",
   "metadata": {},
   "source": [
    "## Sigmoid 核函数"
   ]
  },
  {
   "cell_type": "code",
   "execution_count": null,
   "metadata": {},
   "outputs": [],
   "source": [
    "clf_sigmoid = svm.SVC(C=1, kernel='sigmoid', gamma='scale', coef0=0.5, degree=3)\n",
    "clf_sigmoid.fit(X_train, y_train)\n",
    "print(f\"Sigmoid Kernel Score: {clf_sigmoid.score(X_test, y_test):.4f}\")\n",
    "plot_decision_boundary(clf_sigmoid, 'sigmoid')"
   ]
  }
 ],
 "metadata": {
  "kernelspec": {
   "display_name": "Python 3",
   "language": "python",
   "name": "python3"
  },
  "language_info": {
   "name": "python",
   "version": ""
  }
 },
 "nbformat": 4,
 "nbformat_minor": 5
}
