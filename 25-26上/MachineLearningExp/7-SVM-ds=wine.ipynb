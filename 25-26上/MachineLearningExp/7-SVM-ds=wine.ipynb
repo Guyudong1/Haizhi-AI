{
 "cells": [
  {
   "cell_type": "code",
   "execution_count": null,
   "metadata": {},
   "outputs": [],
   "source": [
    "import numpy as np\n",
    "import matplotlib.pyplot as plt\n",
    "from sklearn import svm, datasets\n",
    "from sklearn.model_selection import train_test_split\n",
    "\n",
    "# 加载wine数据集\n",
    "wine = datasets.load_wine()\n",
    "X = wine.data[:, [10, 11]]\n",
    "y = wine.target\n",
    "# 分割训练集和测试集\n",
    "X_train, X_test, y_train, y_test = train_test_split(X, y, test_size=0.1, random_state=42)\n",
    "# 定义不同核函数\n",
    "kernels = ['linear', 'rbf', 'poly', 'sigmoid']\n",
    "# 初始化图形显示\n",
    "fig, axes = plt.subplots(2, 2, figsize=(12, 10))"
   ]
  },
  {
   "cell_type": "code",
   "execution_count": null,
   "metadata": {},
   "outputs": [],
   "source": [
    "# 线性核函数\n",
    "def linear(axes):\n",
    "    clf1 = svm.SVC(C=1, kernel=kernels[0], gamma=0.1)\n",
    "    clf1.fit(X_train, y_train)\n",
    "    score1 = clf1.score(X_test, y_test)\n",
    "    print(f\"{kernels[0]} score: {score1}\")\n",
    "    h = 0.02\n",
    "    x_min, x_max = X[:, 0].min() - 1, X[:, 0].max() + 1\n",
    "    y_min, y_max = X[:, 1].min() - 1, X[:, 1].max() + 1\n",
    "    xx, yy = np.meshgrid(np.arange(x_min, x_max, h), np.arange(y_min, y_max, h))\n",
    "    Z = clf1.predict(np.c_[xx.ravel(), yy.ravel()])\n",
    "    Z = Z.reshape(xx.shape)\n",
    "    axes[0, 0].contourf(xx, yy, Z, cmap=plt.cm.coolwarm, alpha=0.8)\n",
    "    scatter = axes[0, 0].scatter(X_test[:, 0], X_test[:, 1], c=y_test, cmap=plt.cm.coolwarm, edgecolors='k')\n",
    "    axes[0, 0].set_title(f\"SVM with {kernels[0]} Kernel\\nAccuracy: {score1:.2f}\")\n",
    "    axes[0, 0].set_xlabel(\"OD280\")\n",
    "    axes[0, 0].set_ylabel(\"Proline\")\n",
    "    axes[0, 0].set_xlim(xx.min(), xx.max())\n",
    "    axes[0, 0].set_ylim(yy.min(), yy.max())\n",
    "    return scatter"
   ]
  },
  {
   "cell_type": "code",
   "execution_count": null,
   "metadata": {},
   "outputs": [],
   "source": [
    "# 高斯核函数\n",
    "def rbf(axes):\n",
    "    clf2 = svm.SVC(C=1, kernel=kernels[1], gamma=0.1)\n",
    "    clf2.fit(X_train, y_train)\n",
    "    score2 = clf2.score(X_test, y_test)\n",
    "    print(f\"{kernels[1]} score: {score2}\")\n",
    "    h = 0.02\n",
    "    x_min, x_max = X[:, 0].min() - 1, X[:, 0].max() + 1\n",
    "    y_min, y_max = X[:, 1].min() - 1, X[:, 1].max() + 1\n",
    "    xx, yy = np.meshgrid(np.arange(x_min, x_max, h), np.arange(y_min, y_max, h))\n",
    "    Z = clf2.predict(np.c_[xx.ravel(), yy.ravel()])\n",
    "    Z = Z.reshape(xx.shape)\n",
    "    axes[0, 1].contourf(xx, yy, Z, cmap=plt.cm.coolwarm, alpha=0.8)\n",
    "    scatter = axes[0, 1].scatter(X_test[:, 0], X_test[:, 1], c=y_test, cmap=plt.cm.coolwarm, edgecolors='k')\n",
    "    axes[0, 1].set_title(f\"SVM with {kernels[1]} Kernel\\nAccuracy: {score2:.2f}\")\n",
    "    axes[0, 1].set_xlabel(\"OD280\")\n",
    "    axes[0, 1].set_ylabel(\"Proline\")\n",
    "    axes[0, 1].set_xlim(xx.min(), xx.max())\n",
    "    axes[0, 1].set_ylim(yy.min(), yy.max())\n",
    "    return scatter"
   ]
  },
  {
   "cell_type": "code",
   "execution_count": null,
   "metadata": {},
   "outputs": [],
   "source": [
    "# 多项式核函数\n",
    "def poly(axes):\n",
    "    clf3 = svm.SVC(C=1, kernel=kernels[2], degree=3, gamma=0.1, coef0=0.5)\n",
    "    clf3.fit(X_train, y_train)\n",
    "    score3 = clf3.score(X_test, y_test)\n",
    "    print(f\"{kernels[2]} score: {score3}\")\n",
    "    h = 0.02\n",
    "    x_min, x_max = X[:, 0].min() - 1, X[:, 0].max() + 1\n",
    "    y_min, y_max = X[:, 1].min() - 1, X[:, 1].max() + 1\n",
    "    xx, yy = np.meshgrid(np.arange(x_min, x_max, h), np.arange(y_min, y_max, h))\n",
    "    Z = clf3.predict(np.c_[xx.ravel(), yy.ravel()])\n",
    "    Z = Z.reshape(xx.shape)\n",
    "    axes[1, 0].contourf(xx, yy, Z, cmap=plt.cm.coolwarm, alpha=0.8)\n",
    "    scatter = axes[1, 0].scatter(X_test[:, 0], X_test[:, 1], c=y_test, cmap=plt.cm.coolwarm, edgecolors='k')\n",
    "    axes[1, 0].set_title(f\"SVM with {kernels[2]} Kernel\\nAccuracy: {score3:.2f}\")\n",
    "    axes[1, 0].set_xlabel(\"OD280\")\n",
    "    axes[1, 0].set_ylabel(\"Proline\")\n",
    "    axes[1, 0].set_xlim(xx.min(), xx.max())\n",
    "    axes[1, 0].set_ylim(yy.min(), yy.max())\n",
    "    return scatter"
   ]
  },
  {
   "cell_type": "code",
   "execution_count": null,
   "metadata": {},
   "outputs": [],
   "source": [
    "# SIGMOID核函数\n",
    "def sigmoid(axes):\n",
    "    clf4 = svm.SVC(C=1, kernel=kernels[3], gamma='scale', coef0=0.5)\n",
    "    clf4.fit(X_train, y_train)\n",
    "    score4 = clf4.score(X_test, y_test)\n",
    "    print(f\"{kernels[3]} score: {score4}\")\n",
    "    h = 0.02\n",
    "    x_min, x_max = X[:, 0].min() - 1, X[:, 0].max() + 1\n",
    "    y_min, y_max = X[:, 1].min() - 1, X[:, 1].max() + 1\n",
    "    xx, yy = np.meshgrid(np.arange(x_min, x_max, h), np.arange(y_min, y_max, h))\n",
    "    Z = clf4.predict(np.c_[xx.ravel(), yy.ravel()])\n",
    "    Z = Z.reshape(xx.shape)\n",
    "    axes[1, 1].contourf(xx, yy, Z, cmap=plt.cm.coolwarm, alpha=0.8)\n",
    "    scatter = axes[1, 1].scatter(X_test[:, 0], X_test[:, 1], c=y_test, cmap=plt.cm.coolwarm, edgecolors='k')\n",
    "    axes[1, 1].set_title(f\"SVM with {kernels[3]} Kernel\\nAccuracy: {score4:.2f}\")\n",
    "    axes[1, 1].set_xlabel(\"OD280\")\n",
    "    axes[1, 1].set_ylabel(\"Proline\")\n",
    "    axes[1, 1].set_xlim(xx.min(), xx.max())\n",
    "    axes[1, 1].set_ylim(yy.min(), yy.max())\n",
    "    return scatter"
   ]
  },
  {
   "cell_type": "code",
   "execution_count": null,
   "metadata": {},
   "outputs": [],
   "source": [
    "# 主函数调用\n",
    "linear(axes)\n",
    "rbf(axes)\n",
    "poly(axes)\n",
    "sigmoid(axes)\n",
    "plt.tight_layout()\n",
    "plt.show()"
   ]
  }
 ],
 "metadata": {
  "kernelspec": {
   "display_name": "Python 3",
   "language": "python",
   "name": "python3"
  },
  "language_info": {
   "name": "python",
   "version": "3.9"
  }
 },
 "nbformat": 4,
 "nbformat_minor": 5
}
