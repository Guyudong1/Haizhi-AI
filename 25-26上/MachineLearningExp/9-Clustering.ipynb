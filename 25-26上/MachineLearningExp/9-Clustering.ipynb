{
 "cells": [
  {
   "cell_type": "markdown",
   "metadata": {},
   "source": [
    "# 实验九：KMeans与DBSCAN 聚类对比（含可视化）"
   ]
  },
  {
   "cell_type": "code",
   "execution_count": null,
   "metadata": {},
   "outputs": [],
   "source": [
    "import numpy as np\n",
    "import matplotlib.pyplot as plt\n",
    "from sklearn import datasets\n",
    "from sklearn.cluster import KMeans, DBSCAN\n",
    "from sklearn.decomposition import PCA\n",
    "from sklearn.preprocessing import StandardScaler\n",
    "from sklearn.metrics import adjusted_rand_score, homogeneity_score, completeness_score"
   ]
  },
  {
   "cell_type": "markdown",
   "metadata": {},
   "source": [
    "## 生成三种数据集（圆环、团簇、S 曲线）"
   ]
  },
  {
   "cell_type": "code",
   "execution_count": null,
   "metadata": {},
   "outputs": [],
   "source": [
    "n_samples = 300\n",
    "np.random.seed(42)\n",
    "X1, y1 = datasets.make_circles(n_samples=n_samples, factor=0.5, noise=0.05)\n",
    "X2, y2 = datasets.make_blobs(n_samples=n_samples, centers=3, random_state=42)\n",
    "X3, y3 = datasets.make_s_curve(n_samples=n_samples, noise=0.1)\n",
    "X3_2d = PCA(n_components=2).fit_transform(X3)  # S-curve 降维到 2D"
   ]
  },
  {
   "cell_type": "markdown",
   "metadata": {},
   "source": [
    "## 数据标准化 + 数据集组合"
   ]
  },
  {
   "cell_type": "code",
   "execution_count": null,
   "metadata": {},
   "outputs": [],
   "source": [
    "X1_scaled = StandardScaler().fit_transform(X1)\n",
    "X2_scaled = StandardScaler().fit_transform(X2)\n",
    "X3_scaled = StandardScaler().fit_transform(X3_2d)\n",
    "\n",
    "datasets_list = [\n",
    "    (\"Circles\", X1_scaled, y1, 2),\n",
    "    (\"Blobs\", X2_scaled, y2, 3),\n",
    "    (\"S-curve\", X3_scaled, y3, 2)\n",
    "]"
   ]
  },
  {
   "cell_type": "markdown",
   "metadata": {},
   "source": [
    "## 评估函数定义"
   ]
  },
  {
   "cell_type": "code",
   "execution_count": null,
   "metadata": {},
   "outputs": [],
   "source": [
    "def evaluate_clustering(true_labels, pred_labels):\n",
    "    ari = adjusted_rand_score(true_labels, pred_labels)\n",
    "    homo = homogeneity_score(true_labels, pred_labels)\n",
    "    comp = completeness_score(true_labels, pred_labels)\n",
    "    return f\"ARI: {ari:.2f}\\nHomo: {homo:.2f}\\nComp: {comp:.2f}\""
   ]
  },
  {
   "cell_type": "markdown",
   "metadata": {},
   "source": [
    "## 聚类实验与可视化展示"
   ]
  },
  {
   "cell_type": "code",
   "execution_count": null,
   "metadata": {},
   "outputs": [],
   "source": [
    "plt.figure(figsize=(15, 10))\n",
    "for idx, (name, X, true_labels, n_clusters) in enumerate(datasets_list):\n",
    "    # KMeans\n",
    "    kmeans = KMeans(n_clusters=n_clusters, random_state=42)\n",
    "    kmeans_labels = kmeans.fit_predict(X)\n",
    "    kmeans_metrics = evaluate_clustering(true_labels, kmeans_labels)\n",
    "\n",
    "    # DBSCAN（调整不同数据集的参数）\n",
    "    if name == \"Blobs\":\n",
    "        dbscan = DBSCAN(eps=0.5, min_samples=5)\n",
    "    else:\n",
    "        dbscan = DBSCAN(eps=0.3, min_samples=5)\n",
    "    dbscan_labels = dbscan.fit_predict(X)\n",
    "    dbscan_metrics = evaluate_clustering(true_labels, dbscan_labels)\n",
    "\n",
    "    # 原始数据分布\n",
    "    plt.subplot(3, 3, idx * 3 + 1)\n",
    "    plt.scatter(X[:, 0], X[:, 1], c=true_labels, cmap='bwr', s=10)\n",
    "    plt.title(f\"{name}\\n(True Labels)\")\n",
    "\n",
    "    # KMeans 聚类结果\n",
    "    plt.subplot(3, 3, idx * 3 + 2)\n",
    "    plt.scatter(X[:, 0], X[:, 1], c=kmeans_labels, cmap='bwr', s=10)\n",
    "    plt.title(f\"K-means\\n{kmeans_metrics}\")\n",
    "\n",
    "    # DBSCAN 聚类结果\n",
    "    plt.subplot(3, 3, idx * 3 + 3)\n",
    "    plt.scatter(X[:, 0], X[:, 1], c=dbscan_labels, cmap='bwr', s=10)\n",
    "    plt.title(f\"DBSCAN\\n{dbscan_metrics}\")\n",
    "\n",
    "plt.tight_layout()\n",
    "plt.show()"
   ]
  }
 ],
 "metadata": {
  "kernelspec": {
   "display_name": "Python 3",
   "language": "python",
   "name": "python3"
  },
  "language_info": {
   "name": "python",
   "version": "3.9"
  }
 },
 "nbformat": 4,
 "nbformat_minor": 5
}
