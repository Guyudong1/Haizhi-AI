{
 "cells": [
  {
   "cell_type": "markdown",
   "metadata": {},
   "source": [
    "# 实验一：预测结果评估"
   ]
  },
  {
   "cell_type": "code",
   "execution_count": null,
   "metadata": {},
   "outputs": [],
   "source": [
    "import pandas as pd\n",
    "import numpy as np\n",
    "import matplotlib.pyplot as plt\n",
    "from sklearn import metrics"
   ]
  },
  {
   "cell_type": "markdown",
   "metadata": {},
   "source": [
    "## 读取数据"
   ]
  },
  {
   "cell_type": "code",
   "execution_count": null,
   "metadata": {},
   "outputs": [],
   "source": [
    "wb = pd.read_csv(\"D:/cxdownload/PredictionResultv2.csv\")\n",
    "dataMat = np.array(wb)\n",
    "print(dataMat)"
   ]
  },
  {
   "cell_type": "markdown",
   "metadata": {},
   "source": [
    "## 实验一：混淆矩阵"
   ]
  },
  {
   "cell_type": "code",
   "execution_count": null,
   "metadata": {},
   "outputs": [],
   "source": [
    "y_true = dataMat[:, 1:2]\n",
    "y_pred = dataMat[:, 2:3]\n",
    "M1 = metrics.confusion_matrix(y_true, y_pred)\n",
    "print(\"混淆矩阵：\\n\", M1)"
   ]
  },
  {
   "cell_type": "markdown",
   "metadata": {},
   "source": [
    "## 实验二：准确率与错误率"
   ]
  },
  {
   "cell_type": "code",
   "execution_count": null,
   "metadata": {},
   "outputs": [],
   "source": [
    "acc = metrics.accuracy_score(y_true, y_pred)\n",
    "print(f\"准确率为：{acc}\")\n",
    "print(\"错误率为:\", 1 - acc)"
   ]
  },
  {
   "cell_type": "markdown",
   "metadata": {},
   "source": [
    "## 实验三：查准率、查全率与F1分数"
   ]
  },
  {
   "cell_type": "code",
   "execution_count": null,
   "metadata": {},
   "outputs": [],
   "source": [
    "print(\"查准率为:\", metrics.precision_score(y_true, y_pred, average=None))\n",
    "print(\"查全率为：\", metrics.recall_score(y_true, y_pred, average=None))\n",
    "print(\"F1:\", metrics.f1_score(y_true, y_pred, average=None))"
   ]
  },
  {
   "cell_type": "markdown",
   "metadata": {},
   "source": [
    "## 附加：绘制 ROC 曲线"
   ]
  },
  {
   "cell_type": "code",
   "execution_count": null,
   "metadata": {},
   "outputs": [],
   "source": [
    "# 注意：若 y_true/y_score 中是字符串标签如'A'，需转为整数或用 label encoder\n",
    "y_score = dataMat[:, 3:4]\n",
    "\n",
    "# 如果 y_true 是字符串（比如 'A'），需要先编码成整数\n",
    "from sklearn.preprocessing import LabelEncoder\n",
    "le = LabelEncoder()\n",
    "y_true_enc = le.fit_transform(y_true.ravel())\n",
    "\n",
    "fpr, tpr, thresholds = metrics.roc_curve(y_true_enc, y_score.ravel(), pos_label=1)\n",
    "plt.figure()\n",
    "plt.title(f\"ROC Curve, AUC = {metrics.auc(fpr, tpr):.4f}\")\n",
    "plt.xlabel(\"False Positive Rate\")\n",
    "plt.ylabel(\"True Positive Rate\")\n",
    "plt.plot(fpr, tpr, label=\"ROC Curve\")\n",
    "plt.legend()\n",
    "plt.grid(True)\n",
    "plt.show()"
   ]
  }
 ],
 "metadata": {
  "kernelspec": {
   "display_name": "Python 3",
   "language": "python",
   "name": "python3"
  },
  "language_info": {
   "name": "python",
   "version": ""
  }
 },
 "nbformat": 4,
 "nbformat_minor": 5
}
